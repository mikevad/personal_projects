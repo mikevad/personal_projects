{
 "cells": [
  {
   "cell_type": "code",
   "execution_count": 167,
   "metadata": {},
   "outputs": [
    {
     "name": "stderr",
     "output_type": "stream",
     "text": [
      "[nltk_data] Downloading package words to /Users/lucid75/nltk_data...\n",
      "[nltk_data]   Package words is already up-to-date!\n"
     ]
    },
    {
     "data": {
      "text/plain": [
       "True"
      ]
     },
     "execution_count": 167,
     "metadata": {},
     "output_type": "execute_result"
    }
   ],
   "source": [
    "import numpy as np\n",
    "import pandas as pd\n",
    "import os\n",
    "import re\n",
    "import string\n",
    "import spacy\n",
    "from spacy.lang.en import English\n",
    "from spacy.lang.en.stop_words import STOP_WORDS\n",
    "from nltk.tokenize import RegexpTokenizer\n",
    "from sklearn.feature_extraction.text import CountVectorizer, TfidfTransformer\n",
    "from sklearn.model_selection import train_test_split\n",
    "from sklearn.model_selection import cross_val_score\n",
    "from sklearn.metrics import accuracy_score, classification_report\n",
    "import nltk\n",
    "nltk.download('words')\n",
    "nlp = spacy.load('en_core_web_sm')\n",
    "words = set(nltk.corpus.words.words())\n",
    "\n",
    "from alphabet_detector import AlphabetDetector\n",
    "ad = AlphabetDetector()\n",
    "\n",
    "from IPython.core.interactiveshell import InteractiveShell\n",
    "InteractiveShell.ast_node_interactivity = \"all\"\n",
    "\n",
    "# nlp = English()"
   ]
  },
  {
   "cell_type": "code",
   "execution_count": 2,
   "metadata": {},
   "outputs": [],
   "source": [
    "file_list = []\n",
    "\n",
    "for f in os.listdir('lyrics'):\n",
    "    file_list.append(f'lyrics/{f}')\n",
    "    \n",
    "file_list.sort()"
   ]
  },
  {
   "cell_type": "code",
   "execution_count": 3,
   "metadata": {},
   "outputs": [],
   "source": [
    "df_list = []\n",
    "\n",
    "for filepath in file_list:\n",
    "    df = pd.read_json(filepath)\n",
    "    df_list.append(df)"
   ]
  },
  {
   "cell_type": "code",
   "execution_count": 4,
   "metadata": {},
   "outputs": [],
   "source": [
    "lyrics_df = pd.concat(df_list, axis = 0)"
   ]
  },
  {
   "cell_type": "code",
   "execution_count": 5,
   "metadata": {},
   "outputs": [
    {
     "data": {
      "text/plain": [
       "(87359, 4)"
      ]
     },
     "execution_count": 5,
     "metadata": {},
     "output_type": "execute_result"
    }
   ],
   "source": [
    "lyrics_df.shape"
   ]
  },
  {
   "cell_type": "code",
   "execution_count": 6,
   "metadata": {},
   "outputs": [],
   "source": [
    "music_df = pd.read_csv('all_music.csv')"
   ]
  },
  {
   "cell_type": "code",
   "execution_count": 7,
   "metadata": {},
   "outputs": [
    {
     "data": {
      "text/plain": [
       "Index(['Name', 'Artist', 'Composer', 'Album', 'Grouping', 'Work',\n",
       "       'Movement Number', 'Movement Count', 'Movement Name', 'Genre', 'Size',\n",
       "       'Time', 'Disc Number', 'Disc Count', 'Track Number', 'Track Count',\n",
       "       'Year', 'Date Modified', 'Date Added', 'Bit Rate', 'Sample Rate',\n",
       "       'Volume Adjustment', 'Kind', 'Equalizer', 'Comments', 'Plays',\n",
       "       'Last Played', 'Skips', 'Last Skipped', 'My Rating', 'Location'],\n",
       "      dtype='object')"
      ]
     },
     "execution_count": 7,
     "metadata": {},
     "output_type": "execute_result"
    }
   ],
   "source": [
    "music_df.columns"
   ]
  },
  {
   "cell_type": "code",
   "execution_count": 8,
   "metadata": {},
   "outputs": [],
   "source": [
    "music_df['Skips'] = music_df['Skips'].fillna(0)\n",
    "music_df['Plays'] = music_df['Plays'].fillna(0)"
   ]
  },
  {
   "cell_type": "code",
   "execution_count": 9,
   "metadata": {},
   "outputs": [],
   "source": [
    "music_df['My Rating'] = music_df['My Rating'].fillna(0)"
   ]
  },
  {
   "cell_type": "code",
   "execution_count": 10,
   "metadata": {},
   "outputs": [],
   "source": [
    "# modifying training data for songs that got many skips and not many plays\n",
    "\n",
    "def convert_rating(df):\n",
    "    converted_list = []\n",
    "    for i, row in df.iterrows():\n",
    "        if (row['My Rating'] > 0):\n",
    "            converted_list.append(1)\n",
    "        elif (row['My Rating'] ==  0) & (row['Skips'] >= 1):\n",
    "            converted_list.append(0)\n",
    "        else:\n",
    "            converted_list.append(None)\n",
    "            \n",
    "    return converted_list"
   ]
  },
  {
   "cell_type": "code",
   "execution_count": 11,
   "metadata": {},
   "outputs": [],
   "source": [
    "lyrics_df['liked'] = convert_rating(music_df)"
   ]
  },
  {
   "cell_type": "code",
   "execution_count": 12,
   "metadata": {},
   "outputs": [
    {
     "data": {
      "text/plain": [
       "1.0    5117\n",
       "0.0    3574\n",
       "Name: liked, dtype: int64"
      ]
     },
     "execution_count": 12,
     "metadata": {},
     "output_type": "execute_result"
    }
   ],
   "source": [
    "lyrics_df['liked'].value_counts()"
   ]
  },
  {
   "cell_type": "code",
   "execution_count": 13,
   "metadata": {},
   "outputs": [],
   "source": [
    "lyrics_df = lyrics_df.reset_index(drop = True)"
   ]
  },
  {
   "cell_type": "code",
   "execution_count": 14,
   "metadata": {},
   "outputs": [],
   "source": [
    "lyrics_df = lyrics_df.drop(columns = ['order'])"
   ]
  },
  {
   "cell_type": "code",
   "execution_count": 15,
   "metadata": {},
   "outputs": [],
   "source": [
    "# lyrics_df['liked'] = music_df['My Rating']"
   ]
  },
  {
   "cell_type": "code",
   "execution_count": 16,
   "metadata": {},
   "outputs": [],
   "source": [
    "final_df = lyrics_df.copy()"
   ]
  },
  {
   "cell_type": "code",
   "execution_count": 17,
   "metadata": {},
   "outputs": [
    {
     "data": {
      "text/html": [
       "<div>\n",
       "<style scoped>\n",
       "    .dataframe tbody tr th:only-of-type {\n",
       "        vertical-align: middle;\n",
       "    }\n",
       "\n",
       "    .dataframe tbody tr th {\n",
       "        vertical-align: top;\n",
       "    }\n",
       "\n",
       "    .dataframe thead th {\n",
       "        text-align: right;\n",
       "    }\n",
       "</style>\n",
       "<table border=\"1\" class=\"dataframe\">\n",
       "  <thead>\n",
       "    <tr style=\"text-align: right;\">\n",
       "      <th></th>\n",
       "      <th>lyrics</th>\n",
       "      <th>song_title</th>\n",
       "      <th>artist_name</th>\n",
       "      <th>liked</th>\n",
       "    </tr>\n",
       "  </thead>\n",
       "  <tbody>\n",
       "    <tr>\n",
       "      <th>0</th>\n",
       "      <td>None</td>\n",
       "      <td>Bunny</td>\n",
       "      <td>Tourist</td>\n",
       "      <td>NaN</td>\n",
       "    </tr>\n",
       "    <tr>\n",
       "      <th>1</th>\n",
       "      <td>None</td>\n",
       "      <td>1990</td>\n",
       "      <td>PINES</td>\n",
       "      <td>NaN</td>\n",
       "    </tr>\n",
       "    <tr>\n",
       "      <th>2</th>\n",
       "      <td>None</td>\n",
       "      <td>Scarlett Groove (feat. Saint Saviour)</td>\n",
       "      <td>Maribou State</td>\n",
       "      <td>NaN</td>\n",
       "    </tr>\n",
       "    <tr>\n",
       "      <th>3</th>\n",
       "      <td>\\n\\n[Verse 1]\\nI can't remember\\nThe words wer...</td>\n",
       "      <td>If You Want It</td>\n",
       "      <td>Jay Som</td>\n",
       "      <td>NaN</td>\n",
       "    </tr>\n",
       "    <tr>\n",
       "      <th>4</th>\n",
       "      <td>\\n\\n[Verse 1]\\nI'm not that kind of fool\\nWho ...</td>\n",
       "      <td>Superbike</td>\n",
       "      <td>Jay Som</td>\n",
       "      <td>NaN</td>\n",
       "    </tr>\n",
       "  </tbody>\n",
       "</table>\n",
       "</div>"
      ],
      "text/plain": [
       "                                              lyrics  \\\n",
       "0                                               None   \n",
       "1                                               None   \n",
       "2                                               None   \n",
       "3  \\n\\n[Verse 1]\\nI can't remember\\nThe words wer...   \n",
       "4  \\n\\n[Verse 1]\\nI'm not that kind of fool\\nWho ...   \n",
       "\n",
       "                              song_title    artist_name  liked  \n",
       "0                                  Bunny        Tourist    NaN  \n",
       "1                                   1990          PINES    NaN  \n",
       "2  Scarlett Groove (feat. Saint Saviour)  Maribou State    NaN  \n",
       "3                         If You Want It        Jay Som    NaN  \n",
       "4                              Superbike        Jay Som    NaN  "
      ]
     },
     "execution_count": 17,
     "metadata": {},
     "output_type": "execute_result"
    }
   ],
   "source": [
    "final_df.head()"
   ]
  },
  {
   "cell_type": "code",
   "execution_count": 18,
   "metadata": {},
   "outputs": [
    {
     "data": {
      "text/html": [
       "<div>\n",
       "<style scoped>\n",
       "    .dataframe tbody tr th:only-of-type {\n",
       "        vertical-align: middle;\n",
       "    }\n",
       "\n",
       "    .dataframe tbody tr th {\n",
       "        vertical-align: top;\n",
       "    }\n",
       "\n",
       "    .dataframe thead th {\n",
       "        text-align: right;\n",
       "    }\n",
       "</style>\n",
       "<table border=\"1\" class=\"dataframe\">\n",
       "  <thead>\n",
       "    <tr style=\"text-align: right;\">\n",
       "      <th></th>\n",
       "      <th>lyrics</th>\n",
       "      <th>song_title</th>\n",
       "      <th>artist_name</th>\n",
       "      <th>liked</th>\n",
       "    </tr>\n",
       "  </thead>\n",
       "  <tbody>\n",
       "    <tr>\n",
       "      <th>0</th>\n",
       "      <td>None</td>\n",
       "      <td>Bunny</td>\n",
       "      <td>Tourist</td>\n",
       "      <td>NaN</td>\n",
       "    </tr>\n",
       "    <tr>\n",
       "      <th>1</th>\n",
       "      <td>None</td>\n",
       "      <td>1990</td>\n",
       "      <td>PINES</td>\n",
       "      <td>NaN</td>\n",
       "    </tr>\n",
       "    <tr>\n",
       "      <th>2</th>\n",
       "      <td>None</td>\n",
       "      <td>Scarlett Groove (feat. Saint Saviour)</td>\n",
       "      <td>Maribou State</td>\n",
       "      <td>NaN</td>\n",
       "    </tr>\n",
       "    <tr>\n",
       "      <th>18</th>\n",
       "      <td>None</td>\n",
       "      <td>Miss Americana</td>\n",
       "      <td>Taylor Swift</td>\n",
       "      <td>0.0</td>\n",
       "    </tr>\n",
       "    <tr>\n",
       "      <th>19</th>\n",
       "      <td>None</td>\n",
       "      <td>Paper Hearts</td>\n",
       "      <td>Taylor Swift</td>\n",
       "      <td>NaN</td>\n",
       "    </tr>\n",
       "  </tbody>\n",
       "</table>\n",
       "</div>"
      ],
      "text/plain": [
       "   lyrics                             song_title    artist_name  liked\n",
       "0    None                                  Bunny        Tourist    NaN\n",
       "1    None                                   1990          PINES    NaN\n",
       "2    None  Scarlett Groove (feat. Saint Saviour)  Maribou State    NaN\n",
       "18   None                         Miss Americana   Taylor Swift    0.0\n",
       "19   None                           Paper Hearts   Taylor Swift    NaN"
      ]
     },
     "execution_count": 18,
     "metadata": {},
     "output_type": "execute_result"
    }
   ],
   "source": [
    "final_df[final_df['lyrics'].isna()].head()"
   ]
  },
  {
   "cell_type": "code",
   "execution_count": 19,
   "metadata": {},
   "outputs": [],
   "source": [
    "final_df = final_df[final_df['lyrics'].notnull()]"
   ]
  },
  {
   "cell_type": "code",
   "execution_count": 20,
   "metadata": {},
   "outputs": [],
   "source": [
    "# stopword_count = 0\n",
    "# total_word_count = 0\n",
    "\n",
    "# for word in nlp(final_df['lyrics'].iloc[0]):\n",
    "#     if word.is_stop:\n",
    "#         stopword_count += 1\n",
    "#         total_word_count += 1\n",
    "#     else:\n",
    "#         total_word_count += 1\n",
    "        \n",
    "# print(stopword_count, total_word_count)"
   ]
  },
  {
   "cell_type": "code",
   "execution_count": 21,
   "metadata": {},
   "outputs": [],
   "source": [
    "# final_df['lyrics'].iloc[0]\n",
    "\n",
    "# nlped_words = [] # removing all stopwords/lemmatize\n",
    "\n",
    "# for word in nlp(final_df['lyrics'].iloc[0]):\n",
    "#     if word.is_stop == False:\n",
    "#         nlped_words.append(word.lemma_)\n",
    "#     else:\n",
    "#         print(word)\n",
    "        \n",
    "# ' '.join(nlped_words)"
   ]
  },
  {
   "cell_type": "code",
   "execution_count": 22,
   "metadata": {},
   "outputs": [
    {
     "data": {
      "text/html": [
       "<div>\n",
       "<style scoped>\n",
       "    .dataframe tbody tr th:only-of-type {\n",
       "        vertical-align: middle;\n",
       "    }\n",
       "\n",
       "    .dataframe tbody tr th {\n",
       "        vertical-align: top;\n",
       "    }\n",
       "\n",
       "    .dataframe thead th {\n",
       "        text-align: right;\n",
       "    }\n",
       "</style>\n",
       "<table border=\"1\" class=\"dataframe\">\n",
       "  <thead>\n",
       "    <tr style=\"text-align: right;\">\n",
       "      <th></th>\n",
       "      <th>lyrics</th>\n",
       "      <th>song_title</th>\n",
       "      <th>artist_name</th>\n",
       "      <th>liked</th>\n",
       "    </tr>\n",
       "  </thead>\n",
       "  <tbody>\n",
       "    <tr>\n",
       "      <th>3</th>\n",
       "      <td>\\n\\n[Verse 1]\\nI can't remember\\nThe words wer...</td>\n",
       "      <td>If You Want It</td>\n",
       "      <td>Jay Som</td>\n",
       "      <td>NaN</td>\n",
       "    </tr>\n",
       "    <tr>\n",
       "      <th>4</th>\n",
       "      <td>\\n\\n[Verse 1]\\nI'm not that kind of fool\\nWho ...</td>\n",
       "      <td>Superbike</td>\n",
       "      <td>Jay Som</td>\n",
       "      <td>NaN</td>\n",
       "    </tr>\n",
       "    <tr>\n",
       "      <th>5</th>\n",
       "      <td>\\n\\n[Verse 1]\\nPoint me to my chair\\nMake me s...</td>\n",
       "      <td>Peace Out</td>\n",
       "      <td>Jay Som</td>\n",
       "      <td>NaN</td>\n",
       "    </tr>\n",
       "    <tr>\n",
       "      <th>6</th>\n",
       "      <td>\\n\\n[Verse 1]\\nUsed to be the one to cry\\nAnd ...</td>\n",
       "      <td>Devotion</td>\n",
       "      <td>Jay Som</td>\n",
       "      <td>NaN</td>\n",
       "    </tr>\n",
       "    <tr>\n",
       "      <th>7</th>\n",
       "      <td>\\n\\n[Verse 1]\\nI'm sinking in my bed\\nWe’re le...</td>\n",
       "      <td>Nighttime Drive</td>\n",
       "      <td>Jay Som</td>\n",
       "      <td>NaN</td>\n",
       "    </tr>\n",
       "  </tbody>\n",
       "</table>\n",
       "</div>"
      ],
      "text/plain": [
       "                                              lyrics       song_title  \\\n",
       "3  \\n\\n[Verse 1]\\nI can't remember\\nThe words wer...   If You Want It   \n",
       "4  \\n\\n[Verse 1]\\nI'm not that kind of fool\\nWho ...        Superbike   \n",
       "5  \\n\\n[Verse 1]\\nPoint me to my chair\\nMake me s...        Peace Out   \n",
       "6  \\n\\n[Verse 1]\\nUsed to be the one to cry\\nAnd ...         Devotion   \n",
       "7  \\n\\n[Verse 1]\\nI'm sinking in my bed\\nWe’re le...  Nighttime Drive   \n",
       "\n",
       "  artist_name  liked  \n",
       "3     Jay Som    NaN  \n",
       "4     Jay Som    NaN  \n",
       "5     Jay Som    NaN  \n",
       "6     Jay Som    NaN  \n",
       "7     Jay Som    NaN  "
      ]
     },
     "execution_count": 22,
     "metadata": {},
     "output_type": "execute_result"
    }
   ],
   "source": [
    "final_df.head()"
   ]
  },
  {
   "cell_type": "code",
   "execution_count": 23,
   "metadata": {},
   "outputs": [],
   "source": [
    "def clean_string(lyric):\n",
    "    try:\n",
    "        \n",
    "        if lyric == None:\n",
    "            return None\n",
    "        else:\n",
    "            lyric = re.sub('\\[.*\\]|\\(|\\)', '', lyric) # remove punct\n",
    "            lyric = re.sub('\\s+', ' ', lyric) # get rid of newline stuff\n",
    "            modified_punct = '!\"#$%&\\()*+,-./:;<=>?@[\\\\]^_`{|}~'\n",
    "            lyric = [char.lower() for char in lyric if char not in modified_punct + string.digits] # remove more punct and digits\n",
    "            lyric = ''.join(lyric) #rejoin list of characters back into words\n",
    "            lyric = lyric[1:] # removing first space in all lyrics\n",
    "            \n",
    "            tokenized_lyric = nlp(lyric) #nlp toeknization\n",
    "            \n",
    "            nlped_words = [] # removing all stopwords/lemmatize\n",
    "            \n",
    "            for word in tokenized_lyric: # lematize\n",
    "                if word.is_stop == False:\n",
    "                    nlped_words.append(word.lemma_)\n",
    "            \n",
    "            lyric = ' '.join(nlped_words) # rejoin words into string\n",
    "            lyric = ' '.join(w for w in nltk.wordpunct_tokenize(lyric) if w.lower() in words or not w.isalpha()) # get rid of anything that's not a word\n",
    "            lyric = ''.join(w for w in lyric if ad.is_latin(w)) # get rid of words containing non-latin characters\n",
    "            \n",
    "            if lyric[-1] == ' ':\n",
    "                lyric = lyric[:-1]\n",
    "                return lyric\n",
    "            else:\n",
    "                return lyric\n",
    "            \n",
    "    except Exception as e:\n",
    "        if len(lyric) == 0:\n",
    "            return None\n",
    "        else:\n",
    "            return 'fuck'"
   ]
  },
  {
   "cell_type": "code",
   "execution_count": 24,
   "metadata": {},
   "outputs": [],
   "source": [
    "def clean_list(list_of_lyrics):\n",
    "    \n",
    "    index = range(len(list_of_lyrics))\n",
    "    \n",
    "    error_indices = []\n",
    "    cleaned_list = []\n",
    "    \n",
    "    for i, lyric in zip(index, list_of_lyrics):\n",
    "        if clean_string(lyric) == 'fuck':\n",
    "            error_indices.append(i)   \n",
    "        else:\n",
    "            cleaned_list.append(clean_string(lyric))\n",
    "            if (i+1) % 10000 == 0:\n",
    "                print(f'{i+1} done...')\n",
    "            \n",
    "    print(error_indices)\n",
    "            \n",
    "    return cleaned_list"
   ]
  },
  {
   "cell_type": "code",
   "execution_count": 25,
   "metadata": {},
   "outputs": [
    {
     "data": {
      "text/plain": [
       "(45838, 4)"
      ]
     },
     "execution_count": 25,
     "metadata": {},
     "output_type": "execute_result"
    }
   ],
   "source": [
    "final_df.shape"
   ]
  },
  {
   "cell_type": "code",
   "execution_count": 26,
   "metadata": {},
   "outputs": [
    {
     "data": {
      "text/plain": [
       "1.0    2139\n",
       "0.0    1844\n",
       "Name: liked, dtype: int64"
      ]
     },
     "execution_count": 26,
     "metadata": {},
     "output_type": "execute_result"
    }
   ],
   "source": [
    "final_df['liked'].value_counts()"
   ]
  },
  {
   "cell_type": "code",
   "execution_count": 27,
   "metadata": {},
   "outputs": [
    {
     "name": "stdout",
     "output_type": "stream",
     "text": [
      "10000 done...\n",
      "20000 done...\n",
      "30000 done...\n",
      "40000 done...\n",
      "[]\n"
     ]
    }
   ],
   "source": [
    "final_df['cleaned_lyrics'] = clean_list(final_df['lyrics'])"
   ]
  },
  {
   "cell_type": "code",
   "execution_count": 28,
   "metadata": {},
   "outputs": [],
   "source": [
    "# final_df = final_df.drop(columns = ['lyrics'])"
   ]
  },
  {
   "cell_type": "code",
   "execution_count": 29,
   "metadata": {},
   "outputs": [],
   "source": [
    "final_df = final_df[final_df['cleaned_lyrics'].notnull()]"
   ]
  },
  {
   "cell_type": "code",
   "execution_count": 30,
   "metadata": {},
   "outputs": [
    {
     "data": {
      "text/plain": [
       "NaN    38071\n",
       "0.0     1656\n",
       "1.0     1639\n",
       "Name: liked, dtype: int64"
      ]
     },
     "execution_count": 30,
     "metadata": {},
     "output_type": "execute_result"
    }
   ],
   "source": [
    "final_df['liked'].value_counts(dropna = False)"
   ]
  },
  {
   "cell_type": "code",
   "execution_count": 61,
   "metadata": {},
   "outputs": [],
   "source": [
    "final_df.to_csv('cleaned_lemmatized_unstopped_df.csv', index = False)"
   ]
  }
 ],
 "metadata": {
  "kernelspec": {
   "display_name": "Python 3",
   "language": "python",
   "name": "python3"
  },
  "language_info": {
   "codemirror_mode": {
    "name": "ipython",
    "version": 3
   },
   "file_extension": ".py",
   "mimetype": "text/x-python",
   "name": "python",
   "nbconvert_exporter": "python",
   "pygments_lexer": "ipython3",
   "version": "3.7.3"
  }
 },
 "nbformat": 4,
 "nbformat_minor": 4
}

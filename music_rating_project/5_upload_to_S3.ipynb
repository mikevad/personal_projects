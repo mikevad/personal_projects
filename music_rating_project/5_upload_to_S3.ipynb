{
 "cells": [
  {
   "cell_type": "code",
   "execution_count": 4,
   "metadata": {},
   "outputs": [],
   "source": [
    "import boto3\n",
    "import json\n",
    "import os\n",
    "cred = json.load(open('cred.json'))"
   ]
  },
  {
   "cell_type": "code",
   "execution_count": 5,
   "metadata": {},
   "outputs": [],
   "source": [
    "access_id = cred['Access key ID']\n",
    "secret = cred['Secret access key']"
   ]
  },
  {
   "cell_type": "code",
   "execution_count": 6,
   "metadata": {},
   "outputs": [],
   "source": [
    "s3 = boto3.resource(\n",
    "    's3',\n",
    "    aws_access_key_id = access_id,\n",
    "    aws_secret_access_key = secret\n",
    ")"
   ]
  },
  {
   "cell_type": "code",
   "execution_count": 11,
   "metadata": {},
   "outputs": [],
   "source": [
    "# local files\n",
    "\n",
    "directory = 'data'\n",
    "files = ['all_music.txt',\n",
    "         'cleaned_lemmatized_unstopped_df.csv',\n",
    "         'all_music.csv']"
   ]
  },
  {
   "cell_type": "code",
   "execution_count": 12,
   "metadata": {},
   "outputs": [],
   "source": [
    "# s3 things\n",
    "bucket_name = 'djk-ml-sagemaker'\n",
    "\n",
    "data_folder = 'music_lyrics'\n",
    "\n",
    "s3_training_location = f's3://{data_folder}'\n",
    "\n",
    "# training_folder = r'music_lyrics/training/'\n",
    "# validation_folder = r'music_lyrics/validation/'\n",
    "# test_folder = r'bikerental/test/'\n",
    "\n",
    "# s3_model_output_location = r's3://{0}/bikerental/model'.format(bucket_name)\n",
    "# s3_training_file_location = r's3://{0}/{1}'.format(bucket_name,training_folder)\n",
    "# s3_validation_file_location = r's3://{0}/{1}'.format(bucket_name,validation_folder)\n",
    "# s3_test_file_location = r's3://{0}/{1}'.format(bucket_name,test_folder)"
   ]
  },
  {
   "cell_type": "code",
   "execution_count": 17,
   "metadata": {},
   "outputs": [
    {
     "name": "stdout",
     "output_type": "stream",
     "text": [
      "s3://music_lyrics\n"
     ]
    }
   ],
   "source": [
    "print(s3_training_location)"
   ]
  },
  {
   "cell_type": "code",
   "execution_count": 13,
   "metadata": {},
   "outputs": [],
   "source": [
    "def write_to_s3(filename, bucket, key):\n",
    "    with open(filename,'rb') as f: # Read in binary mode\n",
    "        return boto3.Session().resource('s3').Bucket(bucket).Object(key).upload_fileobj(f)"
   ]
  },
  {
   "cell_type": "code",
   "execution_count": 18,
   "metadata": {},
   "outputs": [],
   "source": [
    "for f in files:\n",
    "    write_to_s3(f'data/{f}', bucket_name, f'{data_folder}/{f}')"
   ]
  },
  {
   "cell_type": "code",
   "execution_count": null,
   "metadata": {},
   "outputs": [],
   "source": []
  }
 ],
 "metadata": {
  "kernelspec": {
   "display_name": "Python 3",
   "language": "python",
   "name": "python3"
  },
  "language_info": {
   "codemirror_mode": {
    "name": "ipython",
    "version": 3
   },
   "file_extension": ".py",
   "mimetype": "text/x-python",
   "name": "python",
   "nbconvert_exporter": "python",
   "pygments_lexer": "ipython3",
   "version": "3.7.3"
  }
 },
 "nbformat": 4,
 "nbformat_minor": 4
}

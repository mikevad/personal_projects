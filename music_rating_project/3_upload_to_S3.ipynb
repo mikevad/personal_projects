{
 "cells": [
  {
   "cell_type": "code",
   "execution_count": 1,
   "metadata": {},
   "outputs": [],
   "source": [
    "import boto3\n",
    "import json\n",
    "import os\n",
    "cred = json.load(open('cred.json'))"
   ]
  },
  {
   "cell_type": "code",
   "execution_count": 2,
   "metadata": {},
   "outputs": [],
   "source": [
    "access_id = cred['Access key ID']\n",
    "secret = cred['Secret access key']"
   ]
  },
  {
   "cell_type": "code",
   "execution_count": 4,
   "metadata": {},
   "outputs": [],
   "source": [
    "s3 = boto3.resource(\n",
    "    's3',\n",
    "    aws_access_key_id = access_id,\n",
    "    aws_secret_access_key = secret\n",
    ")"
   ]
  },
  {
   "cell_type": "code",
   "execution_count": 5,
   "metadata": {},
   "outputs": [],
   "source": [
    "# local file paths\n",
    "\n",
    "directory = 'data/'\n",
    "backup_data_path = 'data/lyrics/'\n",
    "combined_files = ['all_music.txt',\n",
    "         'cleaned_lemmatized_unstopped_df.csv',\n",
    "         'all_music.csv']"
   ]
  },
  {
   "cell_type": "code",
   "execution_count": 6,
   "metadata": {},
   "outputs": [],
   "source": [
    "# defining s3 bucket/key paths\n",
    "\n",
    "bucket_name = 'djk-ml-sagemaker'\n",
    "\n",
    "data_folder = 'music_lyrics'\n",
    "\n",
    "s3_training_location = f's3://{data_folder}'"
   ]
  },
  {
   "cell_type": "code",
   "execution_count": 7,
   "metadata": {},
   "outputs": [],
   "source": [
    "def write_to_s3(filename, bucket, key):\n",
    "    '''\n",
    "    this function uploads files from local directory to s3\n",
    "    '''\n",
    "    \n",
    "    with open(filename,'rb') as f: # Read in binary mode\n",
    "        return boto3.Session().resource('s3').Bucket(bucket).Object(key).upload_fileobj(f)"
   ]
  },
  {
   "cell_type": "code",
   "execution_count": 8,
   "metadata": {},
   "outputs": [],
   "source": [
    "# moving combined files to s3 bucket: djk-ml-sagemaker/music_lyrics\n",
    "\n",
    "for f in combined_files:\n",
    "    write_to_s3(f'{directory}{f}', bucket_name, f'{data_folder}/{f}')"
   ]
  },
  {
   "cell_type": "code",
   "execution_count": 10,
   "metadata": {},
   "outputs": [],
   "source": [
    "# moving backup webscraping files to s3 bucket: djk-ml-sagemaker/music_lyrics/backup\n",
    "\n",
    "for f in os.listdir(backup_data_path):\n",
    "    write_to_s3(f'{backup_data_path}{f}', bucket_name, f'{data_folder}/backup/{f}')"
   ]
  },
  {
   "cell_type": "code",
   "execution_count": null,
   "metadata": {},
   "outputs": [],
   "source": []
  }
 ],
 "metadata": {
  "kernelspec": {
   "display_name": "conda_amazonei_mxnet_p27",
   "language": "python",
   "name": "conda_amazonei_mxnet_p27"
  },
  "language_info": {
   "codemirror_mode": {
    "name": "ipython",
    "version": 2
   },
   "file_extension": ".py",
   "mimetype": "text/x-python",
   "name": "python",
   "nbconvert_exporter": "python",
   "pygments_lexer": "ipython2",
   "version": "2.7.15"
  }
 },
 "nbformat": 4,
 "nbformat_minor": 4
}
